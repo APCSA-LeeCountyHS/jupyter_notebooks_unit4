{
 "cells": [
  {
   "cell_type": "markdown",
   "metadata": {},
   "source": [
    "# ArrayList \n",
    "    This is a 'list' that \"grows\" as you need it. Does not have a set size."
   ]
  },
  {
   "cell_type": "markdown",
   "metadata": {},
   "source": [
    "The syntax to create an ArrayList is:\n",
    "\n",
    "    ArrayList <Type> name = new ArrayList<Type>();"
   ]
  },
  {
   "cell_type": "code",
   "execution_count": 1,
   "metadata": {},
   "outputs": [],
   "source": [
    "ArrayList<Integer> nums = new ArrayList<Integer>();"
   ]
  },
  {
   "cell_type": "markdown",
   "metadata": {},
   "source": [
    "In ArrayLists Types are always objects. \n",
    "\n",
    "You cannot use int, must use Integer;\n",
    "\n",
    "You cannot use double, must use Double;"
   ]
  },
  {
   "cell_type": "code",
   "execution_count": 3,
   "metadata": {},
   "outputs": [
    {
     "data": {
      "text/plain": [
       "true"
      ]
     },
     "execution_count": 3,
     "metadata": {},
     "output_type": "execute_result"
    }
   ],
   "source": [
    "ArrayList<String> spongebob = new ArrayList<String>();\n",
    "spongebob.add(\"Patrick Star\");\n",
    "spongebob.add(\"Squidward Tentacles\");\n",
    "spongebob.add(\"Mr. Krabs\");\n",
    "spongebob.add(\"Pikachu\");\n",
    "spongebob.add(\"Sandy Cheeks\");"
   ]
  },
  {
   "cell_type": "code",
   "execution_count": null,
   "metadata": {},
   "outputs": [],
   "source": [
    "System.out.println(\"Some of the characters on Spongebob\"\n",
    "+\" are \" + spongebob);\n"
   ]
  },
  {
   "cell_type": "markdown",
   "metadata": {},
   "source": [
    "To add objects to an ArrayList, use the \n",
    "\n",
    "    .add(object); \n",
    "method. \n",
    "\n",
    "ArrayList already has a \"toString\" method which \n",
    "allows us to print the ArrayList directly."
   ]
  },
  {
   "cell_type": "code",
   "execution_count": 5,
   "metadata": {},
   "outputs": [
    {
     "name": "stdout",
     "output_type": "stream",
     "text": [
      "Some of the characters on Spongebob are [Patrick Star, Squidward Tentacles, Mr. Krabs, Gary, Sandy Cheeks]\n"
     ]
    }
   ],
   "source": [
    "spongebob.remove(3);\n",
    "spongebob.add(3, \"Gary\");\n",
    "System.out.println(\"Some of the characters on Spongebob\"\n",
    "+\" are \" + spongebob);"
   ]
  },
  {
   "cell_type": "markdown",
   "metadata": {},
   "source": [
    "To remove things from the ArrayList, use the:\n",
    "    \n",
    "    .remove(index); \n",
    "method.\n",
    "\n",
    "We can also add to a specific index using the:\n",
    "\n",
    "    .add(index, object);\n",
    "method."
   ]
  },
  {
   "cell_type": "code",
   "execution_count": 7,
   "metadata": {},
   "outputs": [
    {
     "name": "stdout",
     "output_type": "stream",
     "text": [
      "Sandy Cheeks\n",
      "4\n",
      "Gary\n",
      "5\n"
     ]
    }
   ],
   "source": [
    "spongebob.remove(3);\n",
    "\n",
    "System.out.println(spongebob.get(3));\n",
    "\n",
    "System.out.println(spongebob.size());\n",
    "\n",
    "spongebob.add(3, \"Gary\");\n",
    "\n",
    "System.out.println(spongebob.get(3));\n",
    "\n",
    "System.out.println(spongebob.size());"
   ]
  },
  {
   "cell_type": "code",
   "execution_count": 10,
   "metadata": {},
   "outputs": [
    {
     "name": "stdout",
     "output_type": "stream",
     "text": [
      "Total of lengths = 56\n"
     ]
    }
   ],
   "source": [
    "int sum = 0;\n",
    "for(int i = 0; i < spongebob.size(); i++) {\n",
    "    String s = spongebob.get(i);\n",
    "    sum += s.length();\n",
    "}\n",
    "System.out.println(\"Total of lengths = \" + sum);\n"
   ]
  },
  {
   "cell_type": "markdown",
   "metadata": {},
   "source": [
    ".size() - gives the length (or size) of the ArrayList\n",
    "\n",
    ".get(index) - retrieves the object at the given index"
   ]
  },
  {
   "cell_type": "code",
   "execution_count": 11,
   "metadata": {},
   "outputs": [
    {
     "name": "stdout",
     "output_type": "stream",
     "text": [
      "Total of lengths = 0\n"
     ]
    }
   ],
   "source": [
    "spongebob.clear();\n",
    "\n",
    "int sum = 0;\n",
    "for(int i = 0; i < spongebob.size(); i++) {\n",
    "    String s = spongebob.get(i);\n",
    "    sum += s.length();\n",
    "}\n",
    "System.out.println(\"Total of lengths = \" + sum);"
   ]
  },
  {
   "cell_type": "markdown",
   "metadata": {},
   "source": [
    ".clear() - removes everything in the ArrayList"
   ]
  },
  {
   "cell_type": "code",
   "execution_count": null,
   "metadata": {},
   "outputs": [],
   "source": []
  }
 ],
 "metadata": {
  "kernelspec": {
   "display_name": "Java",
   "language": "java",
   "name": "java"
  },
  "language_info": {
   "codemirror_mode": "java",
   "file_extension": ".java",
   "mimetype": "text/x-java-source",
   "name": "Java",
   "pygments_lexer": "java",
   "version": "10.0.1+10-Debian-4"
  }
 },
 "nbformat": 4,
 "nbformat_minor": 2
}
