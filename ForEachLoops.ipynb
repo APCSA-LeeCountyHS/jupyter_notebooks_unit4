{
 "cells": [
  {
   "cell_type": "markdown",
   "metadata": {},
   "source": [
    "# For-Each Loops and Arrays Class"
   ]
  },
  {
   "cell_type": "markdown",
   "metadata": {},
   "source": [
    "## Here is a traditional for loop:"
   ]
  },
  {
   "cell_type": "code",
   "execution_count": 2,
   "metadata": {},
   "outputs": [
    {
     "name": "stdout",
     "output_type": "stream",
     "text": [
      "There were 6 temperatures above freezing.\n"
     ]
    }
   ],
   "source": [
    "int [] fallTemperatures = {55, 50, 59, 69, 48, 30, 48};\n",
    "int above = 0;\n",
    "for(int i = 0; i < fallTemperatures.length; i++) \n",
    "{\n",
    "    if(fallTemperatures[i] > 32) \n",
    "    {\n",
    "        above++;\n",
    "    }\n",
    "}\n",
    "System.out.println(\"There were \"+ above+\" temperatures above freezing.\");"
   ]
  },
  {
   "cell_type": "markdown",
   "metadata": {},
   "source": [
    "## The following for-each loop does the same thing:"
   ]
  },
  {
   "cell_type": "code",
   "execution_count": 3,
   "metadata": {},
   "outputs": [
    {
     "name": "stdout",
     "output_type": "stream",
     "text": [
      "There were 6 temperatures above freezing.\n"
     ]
    }
   ],
   "source": [
    "int [] fallTemperatures = {55, 50, 59, 69, 48, 30, 48};\n",
    "int above = 0;\n",
    "for(int i : fallTemperatures) \n",
    "{\n",
    "    if(i > 32) \n",
    "    {\n",
    "        above++;\n",
    "    }\n",
    "}\n",
    "System.out.println(\"There were \"+ above+\" temperatures above freezing.\");"
   ]
  },
  {
   "cell_type": "markdown",
   "metadata": {},
   "source": [
    "### Notice the outputs for both loops are the same. "
   ]
  },
  {
   "cell_type": "markdown",
   "metadata": {},
   "source": [
    "When using a for-each loop, use the following syntax: \n",
    "\n",
    "    for(type name: nameOfArray)\n",
    "    {\n",
    "        statement\n",
    "        statement\n",
    "        ...\n",
    "    }"
   ]
  },
  {
   "cell_type": "code",
   "execution_count": null,
   "metadata": {},
   "outputs": [],
   "source": []
  }
 ],
 "metadata": {
  "kernelspec": {
   "display_name": "Java",
   "language": "java",
   "name": "java"
  },
  "language_info": {
   "codemirror_mode": "java",
   "file_extension": ".java",
   "mimetype": "text/x-java-source",
   "name": "Java",
   "pygments_lexer": "java",
   "version": "10.0.1+10-Debian-4"
  }
 },
 "nbformat": 4,
 "nbformat_minor": 2
}
