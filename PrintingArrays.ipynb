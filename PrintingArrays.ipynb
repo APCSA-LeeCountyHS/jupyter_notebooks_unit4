{
 "cells": [
  {
   "cell_type": "markdown",
   "metadata": {},
   "source": [
    "# Printing an Array"
   ]
  },
  {
   "cell_type": "code",
   "execution_count": null,
   "metadata": {},
   "outputs": [],
   "source": [
    "To Print an array, you must first declare the array. I'll declare the array as an integer type with ten places.\n",
    "To print it, print the array at what lengths you want shown. For these examples, we'll use the whole array.\n",
    "You'd want to change the array's type to a string type so it actually prints, as shown."
   ]
  },
  {
   "cell_type": "code",
   "execution_count": null,
   "metadata": {},
   "outputs": [],
   "source": [
    "int[] intArray = new int[10];\n",
    "System.out.println(Arrays.toString(intArray));"
   ]
  },
  {
   "cell_type": "code",
   "execution_count": null,
   "metadata": {},
   "outputs": [],
   "source": [
    "For this type, we'll use a string type array. We'll give it values so it doesn't print null for each value.\n",
    "To give a location a value, you can use a loop or specifically declare it."
   ]
  },
  {
   "cell_type": "code",
   "execution_count": null,
   "metadata": {},
   "outputs": [],
   "source": [
    "String[] stringArray = new String[10];\n",
    "stringArray[1] = \"one\";\n",
    "System.out.print(\"[\");\n",
    "for(int i = 0; i < stringArray.length-1; i++)\n",
    "{\n",
    "    System.out.print(stringArray[i]+\", \");\n",
    "}\n",
    "System.out.println(stringArray[stringArray.length-1]+\"]\");"
   ]
  },
  {
   "cell_type": "code",
   "execution_count": null,
   "metadata": {},
   "outputs": [],
   "source": [
    "This is simply a faster way to declare an array and print it."
   ]
  },
  {
   "cell_type": "code",
   "execution_count": null,
   "metadata": {},
   "outputs": [],
   "source": [
    "int[] intArray = new int[10];\n",
    "for(int i = 0; i < intArray.length; i++)\n",
    "{\n",
    "    System.out.print(intArray[i]+\", \");\n",
    "}"
   ]
  },
  {
   "cell_type": "code",
   "execution_count": null,
   "metadata": {},
   "outputs": [],
   "source": []
  }
 ],
 "metadata": {
  "kernelspec": {
   "display_name": "Java",
   "language": "java",
   "name": "java"
  },
  "language_info": {
   "codemirror_mode": "java",
   "file_extension": ".java",
   "mimetype": "text/x-java-source",
   "name": "Java",
   "pygments_lexer": "java",
   "version": "10.0.1+10-Debian-4"
  }
 },
 "nbformat": 4,
 "nbformat_minor": 2
}
