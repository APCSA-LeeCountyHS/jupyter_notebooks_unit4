{
 "cells": [
  {
   "cell_type": "markdown",
   "metadata": {},
   "source": [
    "# Testing for Equality"
   ]
  },
  {
   "cell_type": "code",
   "execution_count": null,
   "metadata": {},
   "outputs": [],
   "source": [
    "public static void main (String[] args)\n",
    "{\n",
    "    int arrayOne[] = {1, 2, 3};\n",
    "    int arrayTwo[] = {1, 2, 3};\n",
    "    if (arrayOne == arrayTwo)\n",
    "    {\n",
    "        System.out.println(\"Equal\");\n",
    "    }\n",
    "    else\n",
    "    {\n",
    "        System.out.println(\"Not Equal\");\n",
    "    }   \n",
    "}\n",
    "\n",
    "//this should print \"Equal\""
   ]
  },
  {
   "cell_type": "code",
   "execution_count": null,
   "metadata": {},
   "outputs": [],
   "source": [
    "public static void main (String[] args)\n",
    "{\n",
    "    int arrayOne[] = {1, 2, 3};\n",
    "    int arrayTwo[] = {1, 2, 4};\n",
    "    if (arrayOne == arrayTwo)\n",
    "    {\n",
    "        System.out.println(\"Equal\");\n",
    "    }    \n",
    "    else\n",
    "    {\n",
    "        System.out.println(\"Not Equal\");\n",
    "    } \n",
    "}\n",
    "\n",
    "//this should print \"Not Equal\""
   ]
  }
 ],
 "metadata": {
  "kernelspec": {
   "display_name": "Java",
   "language": "java",
   "name": "java"
  },
  "language_info": {
   "codemirror_mode": "java",
   "file_extension": ".java",
   "mimetype": "text/x-java-source",
   "name": "Java",
   "pygments_lexer": "java",
   "version": "10.0.1+10-Debian-4"
  }
 },
 "nbformat": 4,
 "nbformat_minor": 2
}
