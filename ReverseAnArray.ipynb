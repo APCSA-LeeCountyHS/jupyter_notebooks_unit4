{
 "cells": [
  {
   "cell_type": "markdown",
   "metadata": {},
   "source": [
    "# Reverse Arrays"
   ]
  },
  {
   "cell_type": "markdown",
   "metadata": {},
   "source": [
    "What's up Logang its your god Logan Paul and today we are going to reverse some arrays, be savage, and buy my merch!\n",
    "\n",
    "MERCH >>> https://maverickbyloganpaul.com/ <<< MERCH"
   ]
  },
  {
   "cell_type": "code",
   "execution_count": 5,
   "metadata": {},
   "outputs": [
    {
     "name": "stdout",
     "output_type": "stream",
     "text": [
      "[5, 4, 3, 2, 1]\n"
     ]
    }
   ],
   "source": [
    "int[] list = {1, 2, 3, 4, 5};\n",
    "int lastIndex = list.length-1;\n",
    "for(int i = 0;i<lastIndex; i++)\n",
    "    {\n",
    "        int temp = list[i];\n",
    "        list[i] = list[lastIndex];\n",
    "        list[lastIndex] = temp;\n",
    "        lastIndex--;\n",
    "    }\n",
    "    \n",
    "System.out.println(Arrays.toString(list));"
   ]
  },
  {
   "cell_type": "markdown",
   "metadata": {},
   "source": [
    "Example using list = {1,2,3,4,5,6}:\n",
    "\n",
    "lastIndex = 5;\n",
    "\n",
    "i = 0: \n",
    "    temp = 1\n",
    "    list[0] = list[5] = 6\n",
    "    list[5] = temp = 1\n",
    "    list = [6, 2, 3, 4, 5, 1]\n",
    "    lastIndex = 4\n",
    "    i = 1\n",
    "    \n",
    "i = 1:\n",
    "     temp = 2\n",
    "     list[1] = list[4] = 5\n",
    "     list[4] = temp = 2\n",
    "     list = [6, 5, 3, 4, 2, 1]\n",
    "     lastIndex = 3\n",
    "     i = 2\n",
    "\n",
    "i = 2:\n",
    "    temp = 3\n",
    "    list[2] = list[3] = 4\n",
    "    list[3] = temp = 3\n",
    "    list = [6, 5, 4, 3, 2, 1]\n",
    "    lastIndex = 2\n",
    "    i = 3"
   ]
  },
  {
   "cell_type": "markdown",
   "metadata": {},
   "source": [
    "Now since that i is > lastIndex the loop stops and it prints the array."
   ]
  }
 ],
 "metadata": {
  "kernelspec": {
   "display_name": "Java",
   "language": "java",
   "name": "java"
  },
  "language_info": {
   "codemirror_mode": "java",
   "file_extension": ".java",
   "mimetype": "text/x-java-source",
   "name": "Java",
   "pygments_lexer": "java",
   "version": "10.0.1+10-Debian-4"
  }
 },
 "nbformat": 4,
 "nbformat_minor": 2
}
