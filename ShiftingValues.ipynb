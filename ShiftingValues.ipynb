{
 "cells": [
  {
   "cell_type": "markdown",
   "metadata": {},
   "source": [
    "# Shifting Values and Arrays of Objects "
   ]
  },
  {
   "cell_type": "code",
   "execution_count": 7,
   "metadata": {},
   "outputs": [],
   "source": [
    "int[] metroCardRides = {5, 4, 3, 2, 1};"
   ]
  },
  {
   "cell_type": "markdown",
   "metadata": {},
   "source": [
    "How would you reorganize this array (within your code) so that the 5 moves from the first element to the last element? \n",
    "\n",
    "    **You cannot reinitialize the array.**\n"
   ]
  },
  {
   "cell_type": "markdown",
   "metadata": {},
   "source": [
    "## Store the first value in the array: "
   ]
  },
  {
   "cell_type": "code",
   "execution_count": 8,
   "metadata": {},
   "outputs": [],
   "source": [
    "int first = metroCardRides[0];"
   ]
  },
  {
   "cell_type": "markdown",
   "metadata": {},
   "source": [
    "How do we assign each value in the array to the next value in the array?\n",
    "\n",
    "Hint: Try using a for loop to cycle through!\n"
   ]
  },
  {
   "cell_type": "code",
   "execution_count": 9,
   "metadata": {},
   "outputs": [
    {
     "name": "stdout",
     "output_type": "stream",
     "text": [
      "j= 0 and metroCardRides[j]=4\n",
      "j= 1 and metroCardRides[j]=3\n",
      "j= 2 and metroCardRides[j]=2\n",
      "j= 3 and metroCardRides[j]=1\n",
      "[4, 3, 2, 1, 1]"
     ]
    }
   ],
   "source": [
    "for(int j = 0; j < metroCardRides.length-1; j++)\n",
    "{\n",
    "    metroCardRides[j] = metroCardRides[j + 1];\n",
    "    System.out.println(\"j= \"+j+ \" and metroCardRides[j]=\"+metroCardRides[j] );\n",
    "}\n",
    "System.out.print(Arrays.toString(metroCardRides));"
   ]
  },
  {
   "cell_type": "markdown",
   "metadata": {},
   "source": [
    "What additional code do we need to add to finish our array?\n",
    "\n",
    "Hint: Look at our current array!"
   ]
  },
  {
   "cell_type": "markdown",
   "metadata": {},
   "source": [
    "## Here is the completed method: "
   ]
  },
  {
   "cell_type": "code",
   "execution_count": 16,
   "metadata": {},
   "outputs": [
    {
     "name": "stdout",
     "output_type": "stream",
     "text": [
      "[4, 3, 2, 1, 5]"
     ]
    }
   ],
   "source": [
    "public static int[] firstToLast(int[] metroCardRides) {\n",
    "    int first = metroCardRides[0];\n",
    "    for (int j = 0; j < metroCardRides.length-1; j++) \n",
    "    {\n",
    "        metroCardRides[j] = metroCardRides[j + 1];\n",
    "    }\n",
    "    metroCardRides[metroCardRides.length-1] = first;\n",
    "    return metroCardRides;\n",
    "}\n",
    "int[] metroCardRides = {5, 4, 3, 2, 1};\n",
    "System.out.print(Arrays.toString(firstToLast(metroCardRides)));"
   ]
  },
  {
   "cell_type": "markdown",
   "metadata": {},
   "source": [
    "## How would we do the opposite? "
   ]
  },
  {
   "cell_type": "code",
   "execution_count": null,
   "metadata": {},
   "outputs": [],
   "source": []
  }
 ],
 "metadata": {
  "kernelspec": {
   "display_name": "Java",
   "language": "java",
   "name": "java"
  },
  "language_info": {
   "codemirror_mode": "java",
   "file_extension": ".java",
   "mimetype": "text/x-java-source",
   "name": "Java",
   "pygments_lexer": "java",
   "version": "10.0.1+10-Debian-4"
  }
 },
 "nbformat": 4,
 "nbformat_minor": 2
}
