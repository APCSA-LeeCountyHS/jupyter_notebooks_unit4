{
 "cells": [
  {
   "cell_type": "markdown",
   "metadata": {},
   "source": [
    "# Arrays Basics"
   ]
  },
  {
   "cell_type": "markdown",
   "metadata": {},
   "source": [
    "Arrays are objects that store many values of the same type. \n",
    "\n",
    "    An element is a single value in an array. \n",
    "    \n",
    "    The index is the location of the element in the array. Remember that the first element has an index of 0. "
   ]
  },
  {
   "cell_type": "markdown",
   "metadata": {},
   "source": [
    "<img src=\"array_pic.png\" width = \"500\"/>"
   ]
  },
  {
   "cell_type": "markdown",
   "metadata": {},
   "source": [
    "## To declare an array, use the form: \n",
    "    type[] name = new type[length];"
   ]
  },
  {
   "cell_type": "code",
   "execution_count": 1,
   "metadata": {},
   "outputs": [
    {
     "name": "stdout",
     "output_type": "stream",
     "text": [
      "[0, 0, 0, 0, 0, 0, 0, 0, 0, 0]\n"
     ]
    }
   ],
   "source": [
    "int[] numbers = new int[10];\n",
    "System.out.println(Arrays.toString(numbers)); "
   ]
  },
  {
   "cell_type": "markdown",
   "metadata": {},
   "source": [
    "Now, let's change a few elements of our array. "
   ]
  },
  {
   "cell_type": "code",
   "execution_count": 2,
   "metadata": {
    "scrolled": true
   },
   "outputs": [
    {
     "name": "stdout",
     "output_type": "stream",
     "text": [
      "[27, 0, 0, -6, 0, 0, 0, 0, 0, 0]\n",
      "The element at index 3 is negative!\n"
     ]
    }
   ],
   "source": [
    "int[] numbers = new int[10];\n",
    "numbers[0] = 27; //This is how you access individual elements of an array\n",
    "numbers[3] = -6;\n",
    "System.out.println(Arrays.toString(numbers));  \n",
    "if(numbers[3] < 0) \n",
    "{\n",
    "    System.out.println(\"The element at index 3 is negative!\");\n",
    "}"
   ]
  },
  {
   "cell_type": "code",
   "execution_count": 3,
   "metadata": {},
   "outputs": [
    {
     "name": "stdout",
     "output_type": "stream",
     "text": [
      "[0.0, 0.0, 0.0, 0.0, 0.0]\n",
      "[0.0, 0.0, 3.4, 0.0, -0.5]\n"
     ]
    }
   ],
   "source": [
    "double[] results = new double[5];\n",
    "System.out.println(Arrays.toString(results));\n",
    "results[2] = 3.4;\n",
    "results[4] = -0.5;\n",
    "System.out.println(Arrays.toString(results));"
   ]
  },
  {
   "cell_type": "code",
   "execution_count": 4,
   "metadata": {},
   "outputs": [
    {
     "name": "stdout",
     "output_type": "stream",
     "text": [
      "[false, false, false, true, false, false]\n"
     ]
    }
   ],
   "source": [
    "boolean[] tests = new boolean[6];\n",
    "tests[3] = true;\n",
    "System.out.println(Arrays.toString(tests));"
   ]
  },
  {
   "cell_type": "markdown",
   "metadata": {},
   "source": [
    "## Out of Bounds Exception\n",
    "\n",
    "    Remember that legal indices are between 0 and the array's length minus 1\n",
    "    \n",
    "Example:"
   ]
  },
  {
   "cell_type": "code",
   "execution_count": 5,
   "metadata": {},
   "outputs": [
    {
     "name": "stdout",
     "output_type": "stream",
     "text": [
      "[0, 0, 0, 0, 0, 0, 0, 0, 0, 0]\n",
      "0\n",
      "0\n"
     ]
    }
   ],
   "source": [
    "int[] data = new int[10];\n",
    "System.out.println(Arrays.toString(data));\n",
    "System.out.println(data[0]);\n",
    "System.out.println(data[9]);"
   ]
  },
  {
   "cell_type": "markdown",
   "metadata": {},
   "source": [
    "But the following produces an ArrayIndexOutOfBounds error: "
   ]
  },
  {
   "cell_type": "code",
   "execution_count": 6,
   "metadata": {},
   "outputs": [
    {
     "name": "stdout",
     "output_type": "stream",
     "text": [
      "[0, 0, 0, 0, 0, 0, 0, 0, 0, 0]\n"
     ]
    },
    {
     "ename": "EvalException",
     "evalue": "10",
     "output_type": "error",
     "traceback": [
      "\u001b[1m\u001b[31m---------------------------------------------------------------------------\u001b[0m",
      "\u001b[1m\u001b[31mjava.lang.ArrayIndexOutOfBoundsException: 10\u001b[0m",
      "\u001b[1m\u001b[31m\tat .(#37:1)\u001b[0m"
     ]
    }
   ],
   "source": [
    "int[] data = new int[10];\n",
    "System.out.println(Arrays.toString(data));\n",
    "System.out.println(data[10]);\n",
    "//System.out.println(data[-1]);"
   ]
  },
  {
   "cell_type": "code",
   "execution_count": 9,
   "metadata": {},
   "outputs": [
    {
     "name": "stdout",
     "output_type": "stream",
     "text": [
      "\n",
      "Please enter the next element for the list: \n",
      "Please enter the next element for the list: \n",
      "Please enter the next element for the list: \n",
      "Please enter the next element for the list: \n",
      "Please enter the next element for the list: \n",
      "Please enter the next element for the list: \n",
      "Please enter the next element for the list: \n",
      "Please enter the next element for the list: \n",
      "[0, 0, 0, 0, 0, 0, 0, 0]\n"
     ]
    }
   ],
   "source": [
    "import java.util.Scanner;\n",
    "Scanner input = new Scanner(System.in);\n",
    "int[] numbers = new int[8];\n",
    "for(int i = 0; i < numbers.length; i++)\n",
    "{\n",
    "    System.out.print(\"\\nPlease enter the next element for the list: \");\n",
    "    //numbers[i] = input.nextInt();  Right now, Scanner is not working in the Jupyter Notebook\n",
    "}\n",
    "System.out.println(\"\\n\"+Arrays.toString(numbers));"
   ]
  },
  {
   "cell_type": "code",
   "execution_count": 8,
   "metadata": {},
   "outputs": [
    {
     "name": "stdout",
     "output_type": "stream",
     "text": [
      "[0, 2, 4, 6, 8, 10, 12, 14]\n"
     ]
    }
   ],
   "source": [
    "int[] numbers = new int[8];\n",
    "for(int i = 0; i < numbers.length; i++)\n",
    "{\n",
    "    numbers[i] = i*2;\n",
    "}\n",
    "System.out.println(Arrays.toString(numbers));"
   ]
  },
  {
   "cell_type": "code",
   "execution_count": null,
   "metadata": {},
   "outputs": [],
   "source": []
  }
 ],
 "metadata": {
  "kernelspec": {
   "display_name": "Java",
   "language": "java",
   "name": "java"
  },
  "language_info": {
   "codemirror_mode": "java",
   "file_extension": ".java",
   "mimetype": "text/x-java-source",
   "name": "Java",
   "pygments_lexer": "java",
   "version": "10.0.1+10-Debian-4"
  }
 },
 "nbformat": 4,
 "nbformat_minor": 2
}
