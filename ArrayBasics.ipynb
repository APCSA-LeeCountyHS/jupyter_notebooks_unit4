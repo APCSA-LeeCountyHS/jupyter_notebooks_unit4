{
 "cells": [
  {
   "cell_type": "markdown",
   "metadata": {},
   "source": [
    "# Arrays Basics"
   ]
  },
  {
   "cell_type": "markdown",
   "metadata": {},
   "source": [
    "Arrays are objects that store many values of the same type. \n",
    "\n",
    "    An element is a single value in an array. \n",
    "    \n",
    "    The index is the location of the element in the array. Remember that the first element has an index of 0. "
   ]
  },
  {
   "cell_type": "markdown",
   "metadata": {},
   "source": [
    "<img src=\"array_pic.png\" width = \"500\"/>"
   ]
  },
  {
   "attachments": {},
   "cell_type": "markdown",
   "metadata": {},
   "source": [
    "## To declare an array, use the form: \n",
    "    type[] name = new type[length];"
   ]
  },
  {
   "cell_type": "code",
   "execution_count": 1,
   "metadata": {},
   "outputs": [],
   "source": [
    "int[] numbers = new int[10];\n",
    "System.out.println(numbers.toString()); "
   ]
  },
  {
   "cell_type": "markdown",
   "metadata": {},
   "source": [
    "Now, let's change a few elements of our array. "
   ]
  },
  {
   "cell_type": "code",
   "execution_count": 2,
   "metadata": {
    "scrolled": true
   },
   "outputs": [],
   "source": [
    "int[] numbers = new int[10];\n",
    "numbers[0] = 27; //This is how you access individual elements of an array\n",
    "numbers[3] = -6;\n",
    "System.out.println(numbers.toString());  \n",
    "if(numbers[3] < 0) \n",
    "{\n",
    "    System.out.println(\"The element at index 3 is negative!\");\n",
    "}"
   ]
  },
  {
   "cell_type": "code",
   "execution_count": 3,
   "metadata": {},
   "outputs": [],
   "source": [
    "double[] results = new double[5];\n",
    "System.out.println(results.toString());\n",
    "results[2] = 3.4;\n",
    "results[4] = -0.5;\n",
    "System.out.println(results.toString());"
   ]
  },
  {
   "cell_type": "code",
   "execution_count": 4,
   "metadata": {},
   "outputs": [],
   "source": [
    "boolean[] tests = new boolean[6];\n",
    "tests[3] = true;\n",
    "System.out.println(tests.toString());"
   ]
  },
  {
   "cell_type": "markdown",
   "metadata": {},
   "source": [
    "## Out of Bounds Exception\n",
    "\n",
    "    Remember that legal indices are between 0 and the array's length minus 1\n",
    "    \n",
    "Example:"
   ]
  },
  {
   "cell_type": "code",
   "execution_count": 5,
   "metadata": {},
   "outputs": [],
   "source": [
    "int[] data = new int[10];\n",
    "System.out.println(data.toString());\n",
    "System.out.println(data[0]);\n",
    "System.out.println(data[9]);"
   ]
  },
  {
   "cell_type": "markdown",
   "metadata": {},
   "source": [
    "But the following produces an ArrayIndexOutOfBounds error: "
   ]
  },
  {
   "cell_type": "code",
   "execution_count": 9,
   "metadata": {},
   "outputs": [
    {
     "name": "stdout",
     "output_type": "stream",
     "text": [
      "[0, 0, 0, 0, 0, 0, 0, 0, 0, 0]\n"
     ]
    },
    {
     "name": "stderr",
     "output_type": "stream",
     "text": [
      "[ERROR] null\n",
      "java.lang.ArrayIndexOutOfBoundsException: 10\n",
      "\tat org.codehaus.groovy.runtime.BytecodeInterface8.intArrayGet(BytecodeInterface8.java:59)\n",
      "\tat Script6.run(Script6.groovy:3)\n",
      "\tat org.scijava.plugins.scripting.groovy.GroovyScriptEngine.eval(GroovyScriptEngine.java:303)\n",
      "\tat org.scijava.plugins.scripting.groovy.GroovyScriptEngine.eval(GroovyScriptEngine.java:122)\n",
      "\tat javax.script.AbstractScriptEngine.eval(AbstractScriptEngine.java:264)\n",
      "\tat org.scijava.script.ScriptModule.run(ScriptModule.java:160)\n",
      "\tat org.scijava.module.ModuleRunner.run(ModuleRunner.java:168)\n",
      "\tat org.scijava.jupyter.kernel.evaluator.Worker.run(Worker.java:108)\n",
      "\tat org.scijava.thread.DefaultThreadService$2.run(DefaultThreadService.java:221)\n",
      "\tat java.util.concurrent.Executors$RunnableAdapter.call(Executors.java:511)\n",
      "\tat java.util.concurrent.FutureTask.run(FutureTask.java:266)\n",
      "\tat java.util.concurrent.ThreadPoolExecutor.runWorker(ThreadPoolExecutor.java:1142)\n",
      "\tat java.util.concurrent.ThreadPoolExecutor$Worker.run(ThreadPoolExecutor.java:617)\n",
      "\tat java.lang.Thread.run(Thread.java:745)\n"
     ]
    }
   ],
   "source": [
    "int[] data = new int[10];\n",
    "System.out.println(data.toString());\n",
    "System.out.println(data[10]);"
   ]
  },
  {
   "cell_type": "code",
   "execution_count": 14,
   "metadata": {},
   "outputs": [
    {
     "name": "stdout",
     "output_type": "stream",
     "text": [
      "\n",
      "Please enter the next element for the list: \n",
      "Please enter the next element for the list: \n",
      "Please enter the next element for the list: \n",
      "Please enter the next element for the list: \n",
      "Please enter the next element for the list: \n",
      "Please enter the next element for the list: \n",
      "Please enter the next element for the list: \n",
      "Please enter the next element for the list: \n",
      "[0, 0, 0, 0, 0, 0, 0, 0]\n"
     ]
    }
   ],
   "source": [
    "import java.util.Scanner;\n",
    "Scanner input = new Scanner(System.in);\n",
    "int[] numbers = new int[8];\n",
    "for(int i = 0; i < numbers.length; i++)\n",
    "{\n",
    "    System.out.print(\"\\nPlease enter the next element for the list: \");\n",
    "    //numbers[i] = input.nextInt();  Right now, Scanner is not working in the Jupyter Notebook\n",
    "}\n",
    "System.out.println(\"\\n\"+numbers.toString());"
   ]
  },
  {
   "cell_type": "code",
   "execution_count": 11,
   "metadata": {},
   "outputs": [
    {
     "name": "stdout",
     "output_type": "stream",
     "text": [
      "[0, 2, 4, 6, 8, 10, 12, 14]\n"
     ]
    }
   ],
   "source": [
    "int[] numbers = new int[8];\n",
    "for(int i = 0; i < numbers.length; i++)\n",
    "{\n",
    "    numbers[i] = i*2;\n",
    "}\n",
    "System.out.println(numbers.toString());"
   ]
  },
  {
   "cell_type": "code",
   "execution_count": null,
   "metadata": {},
   "outputs": [],
   "source": []
  }
 ],
 "metadata": {
  "kernelspec": {
   "display_name": "Java",
   "language": "Java",
   "name": "java"
  },
  "language_info": {
   "codemirror_mode": "Java",
   "file_extension": "",
   "mimetype": "",
   "name": "java",
   "nbconverter_exporter": "",
   "pygments_lexer": "java",
   "version": "1.0"
  }
 },
 "nbformat": 4,
 "nbformat_minor": 2
}
